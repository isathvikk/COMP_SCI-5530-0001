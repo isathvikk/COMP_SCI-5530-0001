{
  "nbformat": 4,
  "nbformat_minor": 0,
  "metadata": {
    "colab": {
      "provenance": []
    },
    "kernelspec": {
      "name": "python3",
      "display_name": "Python 3"
    },
    "language_info": {
      "name": "python"
    }
  },
  "cells": [
    {
      "cell_type": "code",
      "execution_count": 1,
      "metadata": {
        "id": "4Yrn6ec9mfkG"
      },
      "outputs": [],
      "source": [
        "import pandas as pd"
      ]
    },
    {
      "cell_type": "code",
      "source": [
        "data = pd.read_csv('/content/drive/MyDrive/Colab Notebooks/raw_data.csv')"
      ],
      "metadata": {
        "id": "gbPNmQU3rT4I"
      },
      "execution_count": 2,
      "outputs": []
    },
    {
      "cell_type": "markdown",
      "source": [
        "#Check for the null values"
      ],
      "metadata": {
        "id": "cAji6oPdsQmI"
      }
    },
    {
      "cell_type": "code",
      "source": [
        "missing_values = data.isnull().sum()"
      ],
      "metadata": {
        "id": "XWfK-Ze7rPXu"
      },
      "execution_count": 3,
      "outputs": []
    },
    {
      "cell_type": "code",
      "source": [
        "print(data.head())"
      ],
      "metadata": {
        "colab": {
          "base_uri": "https://localhost:8080/"
        },
        "id": "PRsMHIOvs1fX",
        "outputId": "a35a1bd8-3b5f-4196-d013-95bc246ced58"
      },
      "execution_count": 4,
      "outputs": [
        {
          "output_type": "stream",
          "name": "stdout",
          "text": [
            "   gender race/ethnicity parental level of education         lunch  \\\n",
            "0  female        group B           bachelor's degree      standard   \n",
            "1  female        group C                some college      standard   \n",
            "2  female        group B             master's degree      standard   \n",
            "3    male        group A          associate's degree  free/reduced   \n",
            "4    male        group C                some college      standard   \n",
            "\n",
            "  test preparation course  math score  reading score  writing score  \n",
            "0                    none          72             72             74  \n",
            "1               completed          69             90             88  \n",
            "2                    none          90             95             93  \n",
            "3                    none          47             57             44  \n",
            "4                    none          76             78             75  \n"
          ]
        }
      ]
    },
    {
      "cell_type": "markdown",
      "source": [
        "#Check for the dupicate rows"
      ],
      "metadata": {
        "id": "obI_kKKxsdDO"
      }
    },
    {
      "cell_type": "code",
      "source": [
        "duplicate_rows = data.duplicated().sum()"
      ],
      "metadata": {
        "id": "-W4HM0A6rasn"
      },
      "execution_count": 5,
      "outputs": []
    },
    {
      "cell_type": "code",
      "source": [
        "print(data.head())"
      ],
      "metadata": {
        "colab": {
          "base_uri": "https://localhost:8080/"
        },
        "id": "r5lLcmugtC4D",
        "outputId": "1f7bbbfb-ff7a-4ad0-efbd-fc552f8ef03e"
      },
      "execution_count": 6,
      "outputs": [
        {
          "output_type": "stream",
          "name": "stdout",
          "text": [
            "   gender race/ethnicity parental level of education         lunch  \\\n",
            "0  female        group B           bachelor's degree      standard   \n",
            "1  female        group C                some college      standard   \n",
            "2  female        group B             master's degree      standard   \n",
            "3    male        group A          associate's degree  free/reduced   \n",
            "4    male        group C                some college      standard   \n",
            "\n",
            "  test preparation course  math score  reading score  writing score  \n",
            "0                    none          72             72             74  \n",
            "1               completed          69             90             88  \n",
            "2                    none          90             95             93  \n",
            "3                    none          47             57             44  \n",
            "4                    none          76             78             75  \n"
          ]
        }
      ]
    },
    {
      "cell_type": "markdown",
      "source": [
        "#Add a new column named TotalPercentage"
      ],
      "metadata": {
        "id": "1g_sE6LBtt2W"
      }
    },
    {
      "cell_type": "code",
      "source": [
        "data['TotalPercentage'] = (data['math score'] + data['reading score'] + data['writing score']) / 3"
      ],
      "metadata": {
        "id": "U17HIxrstzdw"
      },
      "execution_count": 7,
      "outputs": []
    },
    {
      "cell_type": "code",
      "source": [
        "data['TotalPercentage'] = data['TotalPercentage'].round(2)"
      ],
      "metadata": {
        "id": "V0d6Uc2buFHV"
      },
      "execution_count": 8,
      "outputs": []
    },
    {
      "cell_type": "code",
      "source": [
        "print(data)"
      ],
      "metadata": {
        "colab": {
          "base_uri": "https://localhost:8080/"
        },
        "id": "2MRfcJARuNaW",
        "outputId": "b1fa2f83-2513-41dc-a821-517180f20491"
      },
      "execution_count": 9,
      "outputs": [
        {
          "output_type": "stream",
          "name": "stdout",
          "text": [
            "     gender race/ethnicity parental level of education         lunch  \\\n",
            "0    female        group B           bachelor's degree      standard   \n",
            "1    female        group C                some college      standard   \n",
            "2    female        group B             master's degree      standard   \n",
            "3      male        group A          associate's degree  free/reduced   \n",
            "4      male        group C                some college      standard   \n",
            "..      ...            ...                         ...           ...   \n",
            "995  female        group E             master's degree      standard   \n",
            "996    male        group C                 high school  free/reduced   \n",
            "997  female        group C                 high school  free/reduced   \n",
            "998  female        group D                some college      standard   \n",
            "999  female        group D                some college  free/reduced   \n",
            "\n",
            "    test preparation course  math score  reading score  writing score  \\\n",
            "0                      none          72             72             74   \n",
            "1                 completed          69             90             88   \n",
            "2                      none          90             95             93   \n",
            "3                      none          47             57             44   \n",
            "4                      none          76             78             75   \n",
            "..                      ...         ...            ...            ...   \n",
            "995               completed          88             99             95   \n",
            "996                    none          62             55             55   \n",
            "997               completed          59             71             65   \n",
            "998               completed          68             78             77   \n",
            "999                    none          77             86             86   \n",
            "\n",
            "     TotalPercentage  \n",
            "0              72.67  \n",
            "1              82.33  \n",
            "2              92.67  \n",
            "3              49.33  \n",
            "4              76.33  \n",
            "..               ...  \n",
            "995            94.00  \n",
            "996            57.33  \n",
            "997            65.00  \n",
            "998            74.33  \n",
            "999            83.00  \n",
            "\n",
            "[1000 rows x 9 columns]\n"
          ]
        }
      ]
    },
    {
      "cell_type": "markdown",
      "source": [
        "#Arrange the data in asccneding order by Total Percentage\n"
      ],
      "metadata": {
        "id": "JXKCJ-A5uYaJ"
      }
    },
    {
      "cell_type": "code",
      "source": [
        "data_sorted = data.sort_values(by='TotalPercentage', ascending=False)"
      ],
      "metadata": {
        "id": "ijzntfGFubwm"
      },
      "execution_count": 13,
      "outputs": []
    },
    {
      "cell_type": "code",
      "source": [
        "print(data_sorted.head())"
      ],
      "metadata": {
        "colab": {
          "base_uri": "https://localhost:8080/"
        },
        "id": "XrHNNZR2uibv",
        "outputId": "4d6d8dd0-c0eb-42ef-a2ae-0dd9cd407d24"
      },
      "execution_count": 14,
      "outputs": [
        {
          "output_type": "stream",
          "name": "stdout",
          "text": [
            "     gender race/ethnicity parental level of education     lunch  \\\n",
            "916    male        group E           bachelor's degree  standard   \n",
            "458  female        group E           bachelor's degree  standard   \n",
            "962  female        group E          associate's degree  standard   \n",
            "114  female        group E           bachelor's degree  standard   \n",
            "179  female        group D            some high school  standard   \n",
            "\n",
            "    test preparation course  math score  reading score  writing score  \\\n",
            "916               completed         100            100            100   \n",
            "458                    none         100            100            100   \n",
            "962                    none         100            100            100   \n",
            "114               completed          99            100            100   \n",
            "179               completed          97            100            100   \n",
            "\n",
            "     TotalPercentage  \n",
            "916           100.00  \n",
            "458           100.00  \n",
            "962           100.00  \n",
            "114            99.67  \n",
            "179            99.00  \n"
          ]
        }
      ]
    },
    {
      "cell_type": "markdown",
      "source": [
        "#Add a new column which states Pass or Fail by their TotalPercentage"
      ],
      "metadata": {
        "id": "lNpZzQFfu7r0"
      }
    },
    {
      "cell_type": "code",
      "source": [
        "data_sorted['pass_or_fail'] = data_sorted['TotalPercentage'].apply(lambda x: 'Pass' if x > 74.99 else 'Fail')"
      ],
      "metadata": {
        "id": "YcU3HN2PvB8v"
      },
      "execution_count": 21,
      "outputs": []
    },
    {
      "cell_type": "code",
      "source": [
        "print(data_sorted.head())"
      ],
      "metadata": {
        "colab": {
          "base_uri": "https://localhost:8080/"
        },
        "id": "en5Ic8ekvGUM",
        "outputId": "04db8292-f357-4653-f72b-34af8c38c6ef"
      },
      "execution_count": 22,
      "outputs": [
        {
          "output_type": "stream",
          "name": "stdout",
          "text": [
            "     gender race/ethnicity parental level of education     lunch  \\\n",
            "916    male        group E           bachelor's degree  standard   \n",
            "458  female        group E           bachelor's degree  standard   \n",
            "962  female        group E          associate's degree  standard   \n",
            "114  female        group E           bachelor's degree  standard   \n",
            "179  female        group D            some high school  standard   \n",
            "\n",
            "    test preparation course  math score  reading score  writing score  \\\n",
            "916               completed         100            100            100   \n",
            "458                    none         100            100            100   \n",
            "962                    none         100            100            100   \n",
            "114               completed          99            100            100   \n",
            "179               completed          97            100            100   \n",
            "\n",
            "     TotalPercentage pass_or_fail  \n",
            "916           100.00         Pass  \n",
            "458           100.00         Pass  \n",
            "962           100.00         Pass  \n",
            "114            99.67         Pass  \n",
            "179            99.00         Pass  \n"
          ]
        }
      ]
    },
    {
      "cell_type": "markdown",
      "source": [
        "#Download the cleaned data in CSV"
      ],
      "metadata": {
        "id": "FiUtNFjfwSlw"
      }
    },
    {
      "cell_type": "code",
      "source": [
        "data_sorted.to_csv('cleaned_data.csv', index=False)"
      ],
      "metadata": {
        "id": "tUh2StwNvTmq"
      },
      "execution_count": 24,
      "outputs": []
    }
  ]
}