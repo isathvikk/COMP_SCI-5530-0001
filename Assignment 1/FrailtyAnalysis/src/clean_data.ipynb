{
  "nbformat": 4,
  "nbformat_minor": 0,
  "metadata": {
    "colab": {
      "provenance": []
    },
    "kernelspec": {
      "name": "python3",
      "display_name": "Python 3"
    },
    "language_info": {
      "name": "python"
    }
  },
  "cells": [
    {
      "cell_type": "code",
      "execution_count": null,
      "metadata": {
        "id": "7eIIylcKUXOB"
      },
      "outputs": [],
      "source": [
        "import pandas as pd\n",
        "import matplotlib.pyplot as plt\n",
        "import seaborn as sns"
      ]
    },
    {
      "cell_type": "markdown",
      "source": [
        "# Load the data into a Pandas DataFrame"
      ],
      "metadata": {
        "id": "4c5vJxabViVV"
      }
    },
    {
      "cell_type": "code",
      "source": [
        "data = pd.read_csv('/content/drive/MyDrive/Colab Notebooks/raw_data.csv')"
      ],
      "metadata": {
        "id": "mFkfHjiAU3cs"
      },
      "execution_count": null,
      "outputs": []
    },
    {
      "cell_type": "code",
      "source": [
        "print(data)"
      ],
      "metadata": {
        "colab": {
          "base_uri": "https://localhost:8080/"
        },
        "id": "ffXOEGtRZjGd",
        "outputId": "ccf510b0-eddd-4e69-bcf5-dab55ebc0787"
      },
      "execution_count": null,
      "outputs": [
        {
          "output_type": "stream",
          "name": "stdout",
          "text": [
            "   Height  Weight  Age  Grip strength Frailty\n",
            "0    65.8     112   30             30       N\n",
            "1    71.5     136   19             31       N\n",
            "2    69.4     153   45             29       N\n",
            "3    68.2     142   22             28       Y\n",
            "4    67.8     144   29             24       Y\n",
            "5    68.7     123   50             26       N\n",
            "6    69.8     141   51             22       Y\n",
            "7    70.1     136   23             20       Y\n",
            "8    67.9     112   17             19       N\n",
            "9    66.8     120   39             31       N\n"
          ]
        }
      ]
    },
    {
      "cell_type": "markdown",
      "source": [
        "# Check for missing values"
      ],
      "metadata": {
        "id": "R5mysxfHVlFz"
      }
    },
    {
      "cell_type": "code",
      "source": [
        "missing_values = data.isnull().sum()\n",
        "print(missing_values)"
      ],
      "metadata": {
        "colab": {
          "base_uri": "https://localhost:8080/"
        },
        "id": "V-7f3HO4VkqH",
        "outputId": "4b8df6c6-b838-487c-9e5f-c75dfef29bf6"
      },
      "execution_count": null,
      "outputs": [
        {
          "output_type": "stream",
          "name": "stdout",
          "text": [
            "Height           0\n",
            "Weight           0\n",
            "Age              0\n",
            "Grip strength    0\n",
            "Frailty          0\n",
            "dtype: int64\n"
          ]
        }
      ]
    },
    {
      "cell_type": "markdown",
      "source": [
        "# Remove duplicates"
      ],
      "metadata": {
        "id": "t1p63bHLVqMV"
      }
    },
    {
      "cell_type": "code",
      "source": [
        "data.drop_duplicates(inplace=True)"
      ],
      "metadata": {
        "id": "60l8Ak8RVsmS"
      },
      "execution_count": null,
      "outputs": []
    },
    {
      "cell_type": "code",
      "source": [
        "print(data)"
      ],
      "metadata": {
        "colab": {
          "base_uri": "https://localhost:8080/"
        },
        "id": "DPPJJYMpZ8rP",
        "outputId": "46210f3f-27b2-4b72-922a-622c8e20e2e7"
      },
      "execution_count": null,
      "outputs": [
        {
          "output_type": "stream",
          "name": "stdout",
          "text": [
            "   Height  Weight  Age  Grip strength Frailty\n",
            "0    65.8     112   30             30       N\n",
            "1    71.5     136   19             31       N\n",
            "2    69.4     153   45             29       N\n",
            "3    68.2     142   22             28       Y\n",
            "4    67.8     144   29             24       Y\n",
            "5    68.7     123   50             26       N\n",
            "6    69.8     141   51             22       Y\n",
            "7    70.1     136   23             20       Y\n",
            "8    67.9     112   17             19       N\n",
            "9    66.8     120   39             31       N\n"
          ]
        }
      ]
    },
    {
      "cell_type": "markdown",
      "source": [
        "# Standardize column names"
      ],
      "metadata": {
        "id": "rQsIFQkBV2i6"
      }
    },
    {
      "cell_type": "code",
      "source": [
        "data.rename(columns={'Height': 'Height (inches)', 'Weight': 'Weight (pounds)', 'Age': 'Age (years)', 'Grip strength': 'Grip Strength (kg)'}, inplace=True)"
      ],
      "metadata": {
        "id": "GqaIyDgYebZ3"
      },
      "execution_count": null,
      "outputs": []
    },
    {
      "cell_type": "markdown",
      "source": [
        "# Convert categorical data to numeric encoding"
      ],
      "metadata": {
        "id": "5OcAbtEmefWY"
      }
    },
    {
      "cell_type": "code",
      "source": [
        "data['Frailty'] = data['Frailty'].map({'N': 0, 'Y': 1})"
      ],
      "metadata": {
        "id": "CX2PT7rudkhl"
      },
      "execution_count": null,
      "outputs": []
    },
    {
      "cell_type": "code",
      "source": [
        "print(data)"
      ],
      "metadata": {
        "colab": {
          "base_uri": "https://localhost:8080/"
        },
        "id": "mLfXpEyCdolj",
        "outputId": "f62f9e22-a4cf-4685-e61c-7d082bb6f0af"
      },
      "execution_count": null,
      "outputs": [
        {
          "output_type": "stream",
          "name": "stdout",
          "text": [
            "   Height (inches)  Weight (pounds)  Age (years)  Grip Strength (kg)  Frailty\n",
            "0             65.8              112           30                  30        0\n",
            "1             71.5              136           19                  31        0\n",
            "2             69.4              153           45                  29        0\n",
            "3             68.2              142           22                  28        1\n",
            "4             67.8              144           29                  24        1\n",
            "5             68.7              123           50                  26        0\n",
            "6             69.8              141           51                  22        1\n",
            "7             70.1              136           23                  20        1\n",
            "8             67.9              112           17                  19        0\n",
            "9             66.8              120           39                  31        0\n"
          ]
        }
      ]
    },
    {
      "cell_type": "code",
      "source": [
        "print(data.dtypes)"
      ],
      "metadata": {
        "colab": {
          "base_uri": "https://localhost:8080/"
        },
        "id": "fiY9hnnpeo1P",
        "outputId": "621a7273-861b-4429-c5e5-f1cce1a36907"
      },
      "execution_count": null,
      "outputs": [
        {
          "output_type": "stream",
          "name": "stdout",
          "text": [
            "Height (inches)       float64\n",
            "Weight (pounds)         int64\n",
            "Age (years)             int64\n",
            "Grip Strength (kg)      int64\n",
            "Frailty                 int64\n",
            "dtype: object\n"
          ]
        }
      ]
    },
    {
      "cell_type": "markdown",
      "source": [
        "# Save the cleaned data to a new CSV file"
      ],
      "metadata": {
        "id": "8KnUgNowfkwq"
      }
    },
    {
      "cell_type": "code",
      "source": [
        "data.to_csv('cleaned_data.csv', index=False)"
      ],
      "metadata": {
        "id": "d7L9_pfJfl3q"
      },
      "execution_count": null,
      "outputs": []
    }
  ]
}