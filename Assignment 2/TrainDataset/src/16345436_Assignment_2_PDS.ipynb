{
  "nbformat": 4,
  "nbformat_minor": 0,
  "metadata": {
    "colab": {
      "provenance": []
    },
    "kernelspec": {
      "name": "python3",
      "display_name": "Python 3"
    },
    "language_info": {
      "name": "python"
    }
  },
  "cells": [
    {
      "cell_type": "code",
      "execution_count": 1,
      "metadata": {
        "id": "zZZyq8HN8tqm"
      },
      "outputs": [],
      "source": [
        "import pandas as pd\n",
        "import numpy as np\n",
        "\n",
        "# Load the dataset\n",
        "data = pd.read_csv('/content/drive/MyDrive/train.csv')"
      ]
    },
    {
      "cell_type": "code",
      "source": [
        "#`count()` function is used to count non-null values in each column\n",
        "column_counts = data.count()\n",
        "\n",
        "# Display the total number of rows in each column\n",
        "print(column_counts)"
      ],
      "metadata": {
        "colab": {
          "base_uri": "https://localhost:8080/"
        },
        "id": "tH09K4aR27Tn",
        "outputId": "7015d53f-7b24-4c7a-ef0c-398db21ad486"
      },
      "execution_count": 2,
      "outputs": [
        {
          "output_type": "stream",
          "name": "stdout",
          "text": [
            "Unnamed: 0           5847\n",
            "Name                 5847\n",
            "Location             5847\n",
            "Year                 5847\n",
            "Kilometers_Driven    5847\n",
            "Fuel_Type            5847\n",
            "Transmission         5847\n",
            "Owner_Type           5847\n",
            "Mileage              5845\n",
            "Engine               5811\n",
            "Power                5811\n",
            "Seats                5809\n",
            "New_Price             815\n",
            "Price                5847\n",
            "dtype: int64\n"
          ]
        }
      ]
    },
    {
      "cell_type": "markdown",
      "source": [
        "Q1. Look for the missing values in all the columns and either impute them (replace with mean, median, or mode) or drop them. Justify your action for this task."
      ],
      "metadata": {
        "id": "8AGI7tV0-RP9"
      }
    },
    {
      "cell_type": "code",
      "source": [
        "# Check for missing values in each column\n",
        "missing_values = data.isnull().sum()\n",
        "print(missing_values)"
      ],
      "metadata": {
        "colab": {
          "base_uri": "https://localhost:8080/"
        },
        "id": "avd34Hza7JyW",
        "outputId": "62108219-7794-49a8-9f32-03e9776de7c6"
      },
      "execution_count": 3,
      "outputs": [
        {
          "output_type": "stream",
          "name": "stdout",
          "text": [
            "Unnamed: 0              0\n",
            "Name                    0\n",
            "Location                0\n",
            "Year                    0\n",
            "Kilometers_Driven       0\n",
            "Fuel_Type               0\n",
            "Transmission            0\n",
            "Owner_Type              0\n",
            "Mileage                 2\n",
            "Engine                 36\n",
            "Power                  36\n",
            "Seats                  38\n",
            "New_Price            5032\n",
            "Price                   0\n",
            "dtype: int64\n"
          ]
        }
      ]
    },
    {
      "cell_type": "code",
      "source": [
        "# Replace \"NA\" values in 'New_Price' with the corresponding values from the 'Price' column\n",
        "data['New_Price'].fillna(data['Price'], inplace=True)\n",
        "\n",
        "#Justification:\n",
        "# I did this because, The cars which don't have the new price are expected to be sold at the same price as before. So updated it with the old price from the price column.\n",
        "\n",
        "# If there are any remaining NA values in 'New_Price', replace them with 0.(Even if Old price column is empty, As we cant find the price of the car through mean, median or mode)\n",
        "data['New_Price'].fillna(0, inplace=True)\n",
        "\n",
        "# Display the Updated dataset.\n",
        "print(data)"
      ],
      "metadata": {
        "colab": {
          "base_uri": "https://localhost:8080/"
        },
        "id": "mztfl58JBn67",
        "outputId": "8c0d4915-f2af-4fe1-e664-655fafc67d0b"
      },
      "execution_count": 4,
      "outputs": [
        {
          "output_type": "stream",
          "name": "stdout",
          "text": [
            "      Unnamed: 0                              Name    Location  Year  \\\n",
            "0              1  Hyundai Creta 1.6 CRDi SX Option        Pune  2015   \n",
            "1              2                      Honda Jazz V     Chennai  2011   \n",
            "2              3                 Maruti Ertiga VDI     Chennai  2012   \n",
            "3              4   Audi A4 New 2.0 TDI Multitronic  Coimbatore  2013   \n",
            "4              6            Nissan Micra Diesel XV      Jaipur  2013   \n",
            "...          ...                               ...         ...   ...   \n",
            "5842        6014                  Maruti Swift VDI       Delhi  2014   \n",
            "5843        6015          Hyundai Xcent 1.1 CRDi S      Jaipur  2015   \n",
            "5844        6016             Mahindra Xylo D4 BSIV      Jaipur  2012   \n",
            "5845        6017                Maruti Wagon R VXI     Kolkata  2013   \n",
            "5846        6018             Chevrolet Beat Diesel   Hyderabad  2011   \n",
            "\n",
            "      Kilometers_Driven Fuel_Type Transmission Owner_Type     Mileage  \\\n",
            "0                 41000    Diesel       Manual      First  19.67 kmpl   \n",
            "1                 46000    Petrol       Manual      First    13 km/kg   \n",
            "2                 87000    Diesel       Manual      First  20.77 kmpl   \n",
            "3                 40670    Diesel    Automatic     Second   15.2 kmpl   \n",
            "4                 86999    Diesel       Manual      First  23.08 kmpl   \n",
            "...                 ...       ...          ...        ...         ...   \n",
            "5842              27365    Diesel       Manual      First   28.4 kmpl   \n",
            "5843             100000    Diesel       Manual      First   24.4 kmpl   \n",
            "5844              55000    Diesel       Manual     Second   14.0 kmpl   \n",
            "5845              46000    Petrol       Manual      First   18.9 kmpl   \n",
            "5846              47000    Diesel       Manual      First  25.44 kmpl   \n",
            "\n",
            "       Engine      Power  Seats  New_Price  Price  \n",
            "0     1582 CC  126.2 bhp    5.0       12.5  12.50  \n",
            "1     1199 CC   88.7 bhp    5.0  8.61 Lakh   4.50  \n",
            "2     1248 CC  88.76 bhp    7.0        6.0   6.00  \n",
            "3     1968 CC  140.8 bhp    5.0      17.74  17.74  \n",
            "4     1461 CC   63.1 bhp    5.0        3.5   3.50  \n",
            "...       ...        ...    ...        ...    ...  \n",
            "5842  1248 CC     74 bhp    5.0  7.88 Lakh   4.75  \n",
            "5843  1120 CC     71 bhp    5.0        4.0   4.00  \n",
            "5844  2498 CC    112 bhp    8.0        2.9   2.90  \n",
            "5845   998 CC   67.1 bhp    5.0       2.65   2.65  \n",
            "5846   936 CC   57.6 bhp    5.0        2.5   2.50  \n",
            "\n",
            "[5847 rows x 14 columns]\n"
          ]
        }
      ]
    },
    {
      "cell_type": "code",
      "source": [
        "# Impute 'Seats' with the median\n",
        "median_seats = data['Seats'].median()\n",
        "data['Seats'].fillna(median_seats, inplace=True)"
      ],
      "metadata": {
        "id": "sxD-wmyK7U8I"
      },
      "execution_count": 5,
      "outputs": []
    },
    {
      "cell_type": "code",
      "source": [
        "# Impute 'Owner_Type' with the mode\n",
        "mode_owner_type = data['Owner_Type'].mode()[0]\n",
        "data['Owner_Type'].fillna(mode_owner_type, inplace=True)"
      ],
      "metadata": {
        "id": "FiYVoYuF7c2d"
      },
      "execution_count": 6,
      "outputs": []
    },
    {
      "cell_type": "code",
      "source": [
        "# Fill empty cells in the 'Engine' column with \"NA\"\n",
        "data['Engine'].fillna('NA', inplace=True)"
      ],
      "metadata": {
        "id": "VerEjW1v96eC"
      },
      "execution_count": 7,
      "outputs": []
    },
    {
      "cell_type": "code",
      "source": [
        "# Download the updated dataset\n",
        "data.to_csv('train_cleaned_dataset.csv', index=False)"
      ],
      "metadata": {
        "id": "E5FCbUOV7qP9"
      },
      "execution_count": 8,
      "outputs": []
    },
    {
      "cell_type": "code",
      "source": [
        "print(data)"
      ],
      "metadata": {
        "colab": {
          "base_uri": "https://localhost:8080/"
        },
        "id": "m-55viNhsuiZ",
        "outputId": "bf93dd32-c073-4c61-bfb9-7929d348c80e"
      },
      "execution_count": 26,
      "outputs": [
        {
          "output_type": "stream",
          "name": "stdout",
          "text": [
            "      Unnamed: 0                              Name    Location  Year  \\\n",
            "0              1  Hyundai Creta 1.6 CRDi SX Option        Pune  2015   \n",
            "1              2                      Honda Jazz V     Chennai  2011   \n",
            "2              3                 Maruti Ertiga VDI     Chennai  2012   \n",
            "3              4   Audi A4 New 2.0 TDI Multitronic  Coimbatore  2013   \n",
            "4              6            Nissan Micra Diesel XV      Jaipur  2013   \n",
            "...          ...                               ...         ...   ...   \n",
            "5842        6014                  Maruti Swift VDI       Delhi  2014   \n",
            "5843        6015          Hyundai Xcent 1.1 CRDi S      Jaipur  2015   \n",
            "5844        6016             Mahindra Xylo D4 BSIV      Jaipur  2012   \n",
            "5845        6017                Maruti Wagon R VXI     Kolkata  2013   \n",
            "5846        6018             Chevrolet Beat Diesel   Hyderabad  2011   \n",
            "\n",
            "      Kilometers_Driven Fuel_Type Transmission Owner_Type     Mileage  \\\n",
            "0                 41000    Diesel       Manual      First  19.67 kmpl   \n",
            "1                 46000    Petrol       Manual      First    13 km/kg   \n",
            "2                 87000    Diesel       Manual      First  20.77 kmpl   \n",
            "3                 40670    Diesel    Automatic     Second   15.2 kmpl   \n",
            "4                 86999    Diesel       Manual      First  23.08 kmpl   \n",
            "...                 ...       ...          ...        ...         ...   \n",
            "5842              27365    Diesel       Manual      First   28.4 kmpl   \n",
            "5843             100000    Diesel       Manual      First   24.4 kmpl   \n",
            "5844              55000    Diesel       Manual     Second   14.0 kmpl   \n",
            "5845              46000    Petrol       Manual      First   18.9 kmpl   \n",
            "5846              47000    Diesel       Manual      First  25.44 kmpl   \n",
            "\n",
            "       Engine      Power  Seats  New_Price  Price  \n",
            "0     1582 CC  126.2 bhp    5.0       12.5  12.50  \n",
            "1     1199 CC   88.7 bhp    5.0  8.61 Lakh   4.50  \n",
            "2     1248 CC  88.76 bhp    7.0        6.0   6.00  \n",
            "3     1968 CC  140.8 bhp    5.0      17.74  17.74  \n",
            "4     1461 CC   63.1 bhp    5.0        3.5   3.50  \n",
            "...       ...        ...    ...        ...    ...  \n",
            "5842  1248 CC     74 bhp    5.0  7.88 Lakh   4.75  \n",
            "5843  1120 CC     71 bhp    5.0        4.0   4.00  \n",
            "5844  2498 CC    112 bhp    8.0        2.9   2.90  \n",
            "5845   998 CC   67.1 bhp    5.0       2.65   2.65  \n",
            "5846   936 CC   57.6 bhp    5.0        2.5   2.50  \n",
            "\n",
            "[5847 rows x 14 columns]\n"
          ]
        }
      ]
    },
    {
      "cell_type": "code",
      "source": [
        "#Justification:\n",
        "#We can also drop the new price column as many columns are empty. But there are questions related to the new price column so i haven't dropped the column."
      ],
      "metadata": {
        "id": "SCE-SjkTlMoW"
      },
      "execution_count": 9,
      "outputs": []
    },
    {
      "cell_type": "markdown",
      "source": [
        "Q2. Remove the units from some of the attributes and only keep the numerical values (for example remove kmpl from “Mileage”, CC from “Engine”, bhp from “Power”, and lakh from “New_price”)."
      ],
      "metadata": {
        "id": "Uf7GZZt2-XE0"
      }
    },
    {
      "cell_type": "code",
      "source": [
        "cleaned_data = pd.read_csv('train_cleaned_dataset.csv')"
      ],
      "metadata": {
        "id": "7metkvk9B2OY"
      },
      "execution_count": 10,
      "outputs": []
    },
    {
      "cell_type": "code",
      "source": [
        "# Remove 'kmpl' from 'Mileage' and keep only numerical values\n",
        "cleaned_data['Mileage'] = cleaned_data['Mileage'].str.replace(' kmpl', '').str.replace(' km/kg', '').astype(float)\n",
        "\n",
        "# Remove 'CC' from 'Engine' and keep only numerical values\n",
        "cleaned_data['Engine'] = cleaned_data['Engine'].str.replace(' CC', '').replace('NA', np.nan).astype(float)\n",
        "\n",
        "# Remove 'bhp' from 'Power' and keep only numerical values\n",
        "cleaned_data['Power'] = cleaned_data['Power'].str.replace(' bhp', '').replace('NA', np.nan).astype(float)\n",
        "\n",
        "# Remove 'Lakh' from 'New_Price' and keep only numerical values\n",
        "cleaned_data['New_Price'] = cleaned_data['New_Price'].str.replace(' Lakh', '').replace('NA', np.nan).str.replace(' Cr', 'e7').astype(float)\n",
        "\n",
        "# Display the updated dataset.\n",
        "print(cleaned_data)"
      ],
      "metadata": {
        "colab": {
          "base_uri": "https://localhost:8080/"
        },
        "id": "0WD5Vsvs-fV7",
        "outputId": "f93ed123-f095-4759-d24d-1612c13b3aa7"
      },
      "execution_count": 11,
      "outputs": [
        {
          "output_type": "stream",
          "name": "stdout",
          "text": [
            "      Unnamed: 0                              Name    Location  Year  \\\n",
            "0              1  Hyundai Creta 1.6 CRDi SX Option        Pune  2015   \n",
            "1              2                      Honda Jazz V     Chennai  2011   \n",
            "2              3                 Maruti Ertiga VDI     Chennai  2012   \n",
            "3              4   Audi A4 New 2.0 TDI Multitronic  Coimbatore  2013   \n",
            "4              6            Nissan Micra Diesel XV      Jaipur  2013   \n",
            "...          ...                               ...         ...   ...   \n",
            "5842        6014                  Maruti Swift VDI       Delhi  2014   \n",
            "5843        6015          Hyundai Xcent 1.1 CRDi S      Jaipur  2015   \n",
            "5844        6016             Mahindra Xylo D4 BSIV      Jaipur  2012   \n",
            "5845        6017                Maruti Wagon R VXI     Kolkata  2013   \n",
            "5846        6018             Chevrolet Beat Diesel   Hyderabad  2011   \n",
            "\n",
            "      Kilometers_Driven Fuel_Type Transmission Owner_Type  Mileage  Engine  \\\n",
            "0                 41000    Diesel       Manual      First    19.67  1582.0   \n",
            "1                 46000    Petrol       Manual      First    13.00  1199.0   \n",
            "2                 87000    Diesel       Manual      First    20.77  1248.0   \n",
            "3                 40670    Diesel    Automatic     Second    15.20  1968.0   \n",
            "4                 86999    Diesel       Manual      First    23.08  1461.0   \n",
            "...                 ...       ...          ...        ...      ...     ...   \n",
            "5842              27365    Diesel       Manual      First    28.40  1248.0   \n",
            "5843             100000    Diesel       Manual      First    24.40  1120.0   \n",
            "5844              55000    Diesel       Manual     Second    14.00  2498.0   \n",
            "5845              46000    Petrol       Manual      First    18.90   998.0   \n",
            "5846              47000    Diesel       Manual      First    25.44   936.0   \n",
            "\n",
            "       Power  Seats  New_Price  Price  \n",
            "0     126.20    5.0      12.50  12.50  \n",
            "1      88.70    5.0       8.61   4.50  \n",
            "2      88.76    7.0       6.00   6.00  \n",
            "3     140.80    5.0      17.74  17.74  \n",
            "4      63.10    5.0       3.50   3.50  \n",
            "...      ...    ...        ...    ...  \n",
            "5842   74.00    5.0       7.88   4.75  \n",
            "5843   71.00    5.0       4.00   4.00  \n",
            "5844  112.00    8.0       2.90   2.90  \n",
            "5845   67.10    5.0       2.65   2.65  \n",
            "5846   57.60    5.0       2.50   2.50  \n",
            "\n",
            "[5847 rows x 14 columns]\n"
          ]
        }
      ]
    },
    {
      "cell_type": "markdown",
      "source": [
        "Q3. Change the categorical variables (“Fuel_Type” and “Transmission”) into numerical one hot encoded value. (5 points)."
      ],
      "metadata": {
        "id": "AlSrMS68Ci9C"
      }
    },
    {
      "cell_type": "code",
      "source": [
        "# Use one-hot encoding to convert 'Fuel_Type' and 'Transmission' into numerical values\n",
        "cleaned_data = pd.get_dummies(cleaned_data, columns=['Fuel_Type', 'Transmission'], prefix=['Fuel', 'Trans'])\n",
        "\n",
        "# Display updated dataset with one-hot encoding.\n",
        "print(cleaned_data)"
      ],
      "metadata": {
        "colab": {
          "base_uri": "https://localhost:8080/"
        },
        "id": "IyzhRw61CjT0",
        "outputId": "cdfe6650-0869-4fd1-cb34-57fd5d510293"
      },
      "execution_count": 12,
      "outputs": [
        {
          "output_type": "stream",
          "name": "stdout",
          "text": [
            "      Unnamed: 0                              Name    Location  Year  \\\n",
            "0              1  Hyundai Creta 1.6 CRDi SX Option        Pune  2015   \n",
            "1              2                      Honda Jazz V     Chennai  2011   \n",
            "2              3                 Maruti Ertiga VDI     Chennai  2012   \n",
            "3              4   Audi A4 New 2.0 TDI Multitronic  Coimbatore  2013   \n",
            "4              6            Nissan Micra Diesel XV      Jaipur  2013   \n",
            "...          ...                               ...         ...   ...   \n",
            "5842        6014                  Maruti Swift VDI       Delhi  2014   \n",
            "5843        6015          Hyundai Xcent 1.1 CRDi S      Jaipur  2015   \n",
            "5844        6016             Mahindra Xylo D4 BSIV      Jaipur  2012   \n",
            "5845        6017                Maruti Wagon R VXI     Kolkata  2013   \n",
            "5846        6018             Chevrolet Beat Diesel   Hyderabad  2011   \n",
            "\n",
            "      Kilometers_Driven Owner_Type  Mileage  Engine   Power  Seats  New_Price  \\\n",
            "0                 41000      First    19.67  1582.0  126.20    5.0      12.50   \n",
            "1                 46000      First    13.00  1199.0   88.70    5.0       8.61   \n",
            "2                 87000      First    20.77  1248.0   88.76    7.0       6.00   \n",
            "3                 40670     Second    15.20  1968.0  140.80    5.0      17.74   \n",
            "4                 86999      First    23.08  1461.0   63.10    5.0       3.50   \n",
            "...                 ...        ...      ...     ...     ...    ...        ...   \n",
            "5842              27365      First    28.40  1248.0   74.00    5.0       7.88   \n",
            "5843             100000      First    24.40  1120.0   71.00    5.0       4.00   \n",
            "5844              55000     Second    14.00  2498.0  112.00    8.0       2.90   \n",
            "5845              46000      First    18.90   998.0   67.10    5.0       2.65   \n",
            "5846              47000      First    25.44   936.0   57.60    5.0       2.50   \n",
            "\n",
            "      Price  Fuel_Diesel  Fuel_Electric  Fuel_Petrol  Trans_Automatic  \\\n",
            "0     12.50            1              0            0                0   \n",
            "1      4.50            0              0            1                0   \n",
            "2      6.00            1              0            0                0   \n",
            "3     17.74            1              0            0                1   \n",
            "4      3.50            1              0            0                0   \n",
            "...     ...          ...            ...          ...              ...   \n",
            "5842   4.75            1              0            0                0   \n",
            "5843   4.00            1              0            0                0   \n",
            "5844   2.90            1              0            0                0   \n",
            "5845   2.65            0              0            1                0   \n",
            "5846   2.50            1              0            0                0   \n",
            "\n",
            "      Trans_Manual  \n",
            "0                1  \n",
            "1                1  \n",
            "2                1  \n",
            "3                0  \n",
            "4                1  \n",
            "...            ...  \n",
            "5842             1  \n",
            "5843             1  \n",
            "5844             1  \n",
            "5845             1  \n",
            "5846             1  \n",
            "\n",
            "[5847 rows x 17 columns]\n"
          ]
        }
      ]
    },
    {
      "cell_type": "markdown",
      "source": [
        "Q4. Create one more feature and add this column to the dataset (you can use mutate function in\n",
        "R for this). For example, you can calculate the current age of the car by subtracting “Year” value\n",
        "from the current year. (5 points)"
      ],
      "metadata": {
        "id": "0RKAzC-WC-n3"
      }
    },
    {
      "cell_type": "code",
      "source": [
        "import datetime\n",
        "\n",
        "# Calculate the current year\n",
        "current_year = datetime.datetime.now().year\n",
        "\n",
        "# Create a new column 'Current_Age' by subtracting 'Year' from the current year\n",
        "cleaned_data['Current_Age'] = current_year - cleaned_data['Year']\n",
        "\n",
        "# Display updated dataset with the new 'Current_Age' column\n",
        "print(cleaned_data)"
      ],
      "metadata": {
        "colab": {
          "base_uri": "https://localhost:8080/"
        },
        "id": "rjgr5EJQC-6o",
        "outputId": "d552c67b-78ed-4702-9f4f-2fad5d613933"
      },
      "execution_count": 13,
      "outputs": [
        {
          "output_type": "stream",
          "name": "stdout",
          "text": [
            "      Unnamed: 0                              Name    Location  Year  \\\n",
            "0              1  Hyundai Creta 1.6 CRDi SX Option        Pune  2015   \n",
            "1              2                      Honda Jazz V     Chennai  2011   \n",
            "2              3                 Maruti Ertiga VDI     Chennai  2012   \n",
            "3              4   Audi A4 New 2.0 TDI Multitronic  Coimbatore  2013   \n",
            "4              6            Nissan Micra Diesel XV      Jaipur  2013   \n",
            "...          ...                               ...         ...   ...   \n",
            "5842        6014                  Maruti Swift VDI       Delhi  2014   \n",
            "5843        6015          Hyundai Xcent 1.1 CRDi S      Jaipur  2015   \n",
            "5844        6016             Mahindra Xylo D4 BSIV      Jaipur  2012   \n",
            "5845        6017                Maruti Wagon R VXI     Kolkata  2013   \n",
            "5846        6018             Chevrolet Beat Diesel   Hyderabad  2011   \n",
            "\n",
            "      Kilometers_Driven Owner_Type  Mileage  Engine   Power  Seats  New_Price  \\\n",
            "0                 41000      First    19.67  1582.0  126.20    5.0      12.50   \n",
            "1                 46000      First    13.00  1199.0   88.70    5.0       8.61   \n",
            "2                 87000      First    20.77  1248.0   88.76    7.0       6.00   \n",
            "3                 40670     Second    15.20  1968.0  140.80    5.0      17.74   \n",
            "4                 86999      First    23.08  1461.0   63.10    5.0       3.50   \n",
            "...                 ...        ...      ...     ...     ...    ...        ...   \n",
            "5842              27365      First    28.40  1248.0   74.00    5.0       7.88   \n",
            "5843             100000      First    24.40  1120.0   71.00    5.0       4.00   \n",
            "5844              55000     Second    14.00  2498.0  112.00    8.0       2.90   \n",
            "5845              46000      First    18.90   998.0   67.10    5.0       2.65   \n",
            "5846              47000      First    25.44   936.0   57.60    5.0       2.50   \n",
            "\n",
            "      Price  Fuel_Diesel  Fuel_Electric  Fuel_Petrol  Trans_Automatic  \\\n",
            "0     12.50            1              0            0                0   \n",
            "1      4.50            0              0            1                0   \n",
            "2      6.00            1              0            0                0   \n",
            "3     17.74            1              0            0                1   \n",
            "4      3.50            1              0            0                0   \n",
            "...     ...          ...            ...          ...              ...   \n",
            "5842   4.75            1              0            0                0   \n",
            "5843   4.00            1              0            0                0   \n",
            "5844   2.90            1              0            0                0   \n",
            "5845   2.65            0              0            1                0   \n",
            "5846   2.50            1              0            0                0   \n",
            "\n",
            "      Trans_Manual  Current_Age  \n",
            "0                1            8  \n",
            "1                1           12  \n",
            "2                1           11  \n",
            "3                0           10  \n",
            "4                1           10  \n",
            "...            ...          ...  \n",
            "5842             1            9  \n",
            "5843             1            8  \n",
            "5844             1           11  \n",
            "5845             1           10  \n",
            "5846             1           12  \n",
            "\n",
            "[5847 rows x 18 columns]\n"
          ]
        }
      ]
    },
    {
      "cell_type": "code",
      "source": [
        "# New feature 'Years_With_Transmission' by combining 'Year' and 'Transmission'\n",
        "cleaned_data['Years_With_Transmission'] = cleaned_data['Year'].astype(str) + '-' + data['Transmission']\n",
        "\n",
        "# Display updated dataset with the new 'Years_With_Transmission' column\n",
        "print(cleaned_data)"
      ],
      "metadata": {
        "colab": {
          "base_uri": "https://localhost:8080/"
        },
        "id": "jbZPTp0ODis9",
        "outputId": "89932159-ba91-4744-ad79-4382dddb13b7"
      },
      "execution_count": 14,
      "outputs": [
        {
          "output_type": "stream",
          "name": "stdout",
          "text": [
            "      Unnamed: 0                              Name    Location  Year  \\\n",
            "0              1  Hyundai Creta 1.6 CRDi SX Option        Pune  2015   \n",
            "1              2                      Honda Jazz V     Chennai  2011   \n",
            "2              3                 Maruti Ertiga VDI     Chennai  2012   \n",
            "3              4   Audi A4 New 2.0 TDI Multitronic  Coimbatore  2013   \n",
            "4              6            Nissan Micra Diesel XV      Jaipur  2013   \n",
            "...          ...                               ...         ...   ...   \n",
            "5842        6014                  Maruti Swift VDI       Delhi  2014   \n",
            "5843        6015          Hyundai Xcent 1.1 CRDi S      Jaipur  2015   \n",
            "5844        6016             Mahindra Xylo D4 BSIV      Jaipur  2012   \n",
            "5845        6017                Maruti Wagon R VXI     Kolkata  2013   \n",
            "5846        6018             Chevrolet Beat Diesel   Hyderabad  2011   \n",
            "\n",
            "      Kilometers_Driven Owner_Type  Mileage  Engine   Power  Seats  New_Price  \\\n",
            "0                 41000      First    19.67  1582.0  126.20    5.0      12.50   \n",
            "1                 46000      First    13.00  1199.0   88.70    5.0       8.61   \n",
            "2                 87000      First    20.77  1248.0   88.76    7.0       6.00   \n",
            "3                 40670     Second    15.20  1968.0  140.80    5.0      17.74   \n",
            "4                 86999      First    23.08  1461.0   63.10    5.0       3.50   \n",
            "...                 ...        ...      ...     ...     ...    ...        ...   \n",
            "5842              27365      First    28.40  1248.0   74.00    5.0       7.88   \n",
            "5843             100000      First    24.40  1120.0   71.00    5.0       4.00   \n",
            "5844              55000     Second    14.00  2498.0  112.00    8.0       2.90   \n",
            "5845              46000      First    18.90   998.0   67.10    5.0       2.65   \n",
            "5846              47000      First    25.44   936.0   57.60    5.0       2.50   \n",
            "\n",
            "      Price  Fuel_Diesel  Fuel_Electric  Fuel_Petrol  Trans_Automatic  \\\n",
            "0     12.50            1              0            0                0   \n",
            "1      4.50            0              0            1                0   \n",
            "2      6.00            1              0            0                0   \n",
            "3     17.74            1              0            0                1   \n",
            "4      3.50            1              0            0                0   \n",
            "...     ...          ...            ...          ...              ...   \n",
            "5842   4.75            1              0            0                0   \n",
            "5843   4.00            1              0            0                0   \n",
            "5844   2.90            1              0            0                0   \n",
            "5845   2.65            0              0            1                0   \n",
            "5846   2.50            1              0            0                0   \n",
            "\n",
            "      Trans_Manual  Current_Age Years_With_Transmission  \n",
            "0                1            8             2015-Manual  \n",
            "1                1           12             2011-Manual  \n",
            "2                1           11             2012-Manual  \n",
            "3                0           10          2013-Automatic  \n",
            "4                1           10             2013-Manual  \n",
            "...            ...          ...                     ...  \n",
            "5842             1            9             2014-Manual  \n",
            "5843             1            8             2015-Manual  \n",
            "5844             1           11             2012-Manual  \n",
            "5845             1           10             2013-Manual  \n",
            "5846             1           12             2011-Manual  \n",
            "\n",
            "[5847 rows x 19 columns]\n"
          ]
        }
      ]
    },
    {
      "cell_type": "code",
      "source": [
        "# Split the 'Name' column based on space and assign the first part to a new 'Car_Company' column.\n",
        "cleaned_data['Car_Company'] = cleaned_data['Name'].str.split(' ').str[0]\n",
        "\n",
        "# Display the updated dataset with the new 'Car_Company' column\n",
        "print(cleaned_data)"
      ],
      "metadata": {
        "colab": {
          "base_uri": "https://localhost:8080/"
        },
        "id": "GcduSdXvpGs7",
        "outputId": "580705ba-f846-405c-8a3e-8c9bebae3313"
      },
      "execution_count": 22,
      "outputs": [
        {
          "output_type": "stream",
          "name": "stdout",
          "text": [
            "      Unnamed: 0                              Name    Location  Year  \\\n",
            "0              1  Hyundai Creta 1.6 CRDi SX Option        Pune  2015   \n",
            "1              2                      Honda Jazz V     Chennai  2011   \n",
            "2              3                 Maruti Ertiga VDI     Chennai  2012   \n",
            "3              4   Audi A4 New 2.0 TDI Multitronic  Coimbatore  2013   \n",
            "4              6            Nissan Micra Diesel XV      Jaipur  2013   \n",
            "...          ...                               ...         ...   ...   \n",
            "5842        6014                  Maruti Swift VDI       Delhi  2014   \n",
            "5843        6015          Hyundai Xcent 1.1 CRDi S      Jaipur  2015   \n",
            "5844        6016             Mahindra Xylo D4 BSIV      Jaipur  2012   \n",
            "5845        6017                Maruti Wagon R VXI     Kolkata  2013   \n",
            "5846        6018             Chevrolet Beat Diesel   Hyderabad  2011   \n",
            "\n",
            "      Kilometers_Driven Owner_Type  Mileage  Engine   Power  Seats  New_Price  \\\n",
            "0                 41000      First    19.67  1582.0  126.20    5.0      12.50   \n",
            "1                 46000      First    13.00  1199.0   88.70    5.0       8.61   \n",
            "2                 87000      First    20.77  1248.0   88.76    7.0       6.00   \n",
            "3                 40670     Second    15.20  1968.0  140.80    5.0      17.74   \n",
            "4                 86999      First    23.08  1461.0   63.10    5.0       3.50   \n",
            "...                 ...        ...      ...     ...     ...    ...        ...   \n",
            "5842              27365      First    28.40  1248.0   74.00    5.0       7.88   \n",
            "5843             100000      First    24.40  1120.0   71.00    5.0       4.00   \n",
            "5844              55000     Second    14.00  2498.0  112.00    8.0       2.90   \n",
            "5845              46000      First    18.90   998.0   67.10    5.0       2.65   \n",
            "5846              47000      First    25.44   936.0   57.60    5.0       2.50   \n",
            "\n",
            "      Price  Fuel_Diesel  Fuel_Electric  Fuel_Petrol  Trans_Automatic  \\\n",
            "0     12.50            1              0            0                0   \n",
            "1      4.50            0              0            1                0   \n",
            "2      6.00            1              0            0                0   \n",
            "3     17.74            1              0            0                1   \n",
            "4      3.50            1              0            0                0   \n",
            "...     ...          ...            ...          ...              ...   \n",
            "5842   4.75            1              0            0                0   \n",
            "5843   4.00            1              0            0                0   \n",
            "5844   2.90            1              0            0                0   \n",
            "5845   2.65            0              0            1                0   \n",
            "5846   2.50            1              0            0                0   \n",
            "\n",
            "      Trans_Manual  Current_Age Years_With_Transmission Car_Company  \n",
            "0                1            8             2015-Manual     Hyundai  \n",
            "1                1           12             2011-Manual       Honda  \n",
            "2                1           11             2012-Manual      Maruti  \n",
            "3                0           10          2013-Automatic        Audi  \n",
            "4                1           10             2013-Manual      Nissan  \n",
            "...            ...          ...                     ...         ...  \n",
            "5842             1            9             2014-Manual      Maruti  \n",
            "5843             1            8             2015-Manual     Hyundai  \n",
            "5844             1           11             2012-Manual    Mahindra  \n",
            "5845             1           10             2013-Manual      Maruti  \n",
            "5846             1           12             2011-Manual   Chevrolet  \n",
            "\n",
            "[5847 rows x 20 columns]\n"
          ]
        }
      ]
    },
    {
      "cell_type": "code",
      "source": [
        "# Download the updated dataset\n",
        "cleaned_data.to_csv('Final_dataset_WithModifications.csv', index=False)"
      ],
      "metadata": {
        "id": "bINbaJMLpeQ0"
      },
      "execution_count": 24,
      "outputs": []
    }
  ]
}